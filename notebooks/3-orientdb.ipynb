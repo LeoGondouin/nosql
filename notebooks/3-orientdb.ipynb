{
 "cells": [
  {
   "cell_type": "markdown",
   "metadata": {},
   "source": [
    "# OrientDB tutorial"
   ]
  },
  {
   "cell_type": "markdown",
   "metadata": {},
   "source": [
    "## Prerequisites"
   ]
  },
  {
   "cell_type": "markdown",
   "metadata": {},
   "source": [
    "### Documentation\n",
    "\n",
    "You will find all documentation for :\n",
    "* [OrientDB SQL reference](http://www.orientdb.com/docs/last/SQL-Functions.html)\n",
    "* [Orientdb python client](http://orientdb.com/docs/last/PyOrient-Client.html#working-with-the-client)"
   ]
  },
  {
   "cell_type": "markdown",
   "metadata": {},
   "source": [
    "## Import libraries"
   ]
  },
  {
   "cell_type": "code",
   "execution_count": 42,
   "metadata": {},
   "outputs": [],
   "source": [
    "import pyorient"
   ]
  },
  {
   "cell_type": "code",
   "execution_count": 43,
   "metadata": {},
   "outputs": [],
   "source": [
    "ROOT_PASSWORD = \"root\"\n",
    "client = pyorient.OrientDB(\"localhost\", 2424)\n",
    "session_id = client.connect(\"root\", ROOT_PASSWORD)"
   ]
  },
  {
   "cell_type": "code",
   "execution_count": 8,
   "metadata": {},
   "outputs": [
    {
     "name": "stdout",
     "output_type": "stream",
     "text": [
      "{{'databases': {}}}\n"
     ]
    }
   ],
   "source": [
    "print(client.db_list())"
   ]
  },
  {
   "cell_type": "markdown",
   "metadata": {},
   "source": [
    "## I. Quick start"
   ]
  },
  {
   "cell_type": "markdown",
   "metadata": {},
   "source": [
    "### Creating the database"
   ]
  },
  {
   "cell_type": "markdown",
   "metadata": {},
   "source": [
    "**Q:** Create a database `gods` as a `GRAPH_DATABASE` in `MEMORY_STORAGE_TYPE`. \n",
    "\n",
    "We will use it to store relationships between Greek deities."
   ]
  },
  {
   "cell_type": "code",
   "execution_count": 9,
   "metadata": {},
   "outputs": [],
   "source": [
    "db = client.db_create(\"gods\",type=pyorient.DB_TYPE_GRAPH,storage=pyorient.STORAGE_TYPE_MEMORY)"
   ]
  },
  {
   "cell_type": "markdown",
   "metadata": {},
   "source": [
    "**Q:** Connect your pyorient client to the `gods` database."
   ]
  },
  {
   "cell_type": "code",
   "execution_count": 10,
   "metadata": {},
   "outputs": [
    {
     "data": {
      "text/plain": [
       "[<pyorient.otypes.OrientCluster at 0x2109d202a20>,\n",
       " <pyorient.otypes.OrientCluster at 0x2109d2026d8>,\n",
       " <pyorient.otypes.OrientCluster at 0x2109d202470>,\n",
       " <pyorient.otypes.OrientCluster at 0x2109d202898>,\n",
       " <pyorient.otypes.OrientCluster at 0x2109d2027b8>,\n",
       " <pyorient.otypes.OrientCluster at 0x2109d202978>,\n",
       " <pyorient.otypes.OrientCluster at 0x2109c5e0fd0>,\n",
       " <pyorient.otypes.OrientCluster at 0x2109d204ba8>,\n",
       " <pyorient.otypes.OrientCluster at 0x2109d21f320>,\n",
       " <pyorient.otypes.OrientCluster at 0x2109d221668>,\n",
       " <pyorient.otypes.OrientCluster at 0x2109d2216a0>,\n",
       " <pyorient.otypes.OrientCluster at 0x2109d2216d8>,\n",
       " <pyorient.otypes.OrientCluster at 0x2109d221710>,\n",
       " <pyorient.otypes.OrientCluster at 0x2109d221748>,\n",
       " <pyorient.otypes.OrientCluster at 0x2109d221780>,\n",
       " <pyorient.otypes.OrientCluster at 0x2109d2217b8>,\n",
       " <pyorient.otypes.OrientCluster at 0x2109d2217f0>,\n",
       " <pyorient.otypes.OrientCluster at 0x2109d221828>,\n",
       " <pyorient.otypes.OrientCluster at 0x2109d221860>,\n",
       " <pyorient.otypes.OrientCluster at 0x2109d221898>,\n",
       " <pyorient.otypes.OrientCluster at 0x2109d2218d0>,\n",
       " <pyorient.otypes.OrientCluster at 0x2109d221908>,\n",
       " <pyorient.otypes.OrientCluster at 0x2109d221940>,\n",
       " <pyorient.otypes.OrientCluster at 0x2109d221978>,\n",
       " <pyorient.otypes.OrientCluster at 0x2109d2219b0>,\n",
       " <pyorient.otypes.OrientCluster at 0x2109d2219e8>,\n",
       " <pyorient.otypes.OrientCluster at 0x2109d221a20>,\n",
       " <pyorient.otypes.OrientCluster at 0x2109d221a58>,\n",
       " <pyorient.otypes.OrientCluster at 0x2109d221a90>,\n",
       " <pyorient.otypes.OrientCluster at 0x2109d221ac8>,\n",
       " <pyorient.otypes.OrientCluster at 0x2109d221b00>,\n",
       " <pyorient.otypes.OrientCluster at 0x2109d221b38>,\n",
       " <pyorient.otypes.OrientCluster at 0x2109d221b70>,\n",
       " <pyorient.otypes.OrientCluster at 0x2109d221ba8>,\n",
       " <pyorient.otypes.OrientCluster at 0x2109d221be0>,\n",
       " <pyorient.otypes.OrientCluster at 0x2109d221c18>,\n",
       " <pyorient.otypes.OrientCluster at 0x2109d221c50>,\n",
       " <pyorient.otypes.OrientCluster at 0x2109d221c88>,\n",
       " <pyorient.otypes.OrientCluster at 0x2109d221cc0>,\n",
       " <pyorient.otypes.OrientCluster at 0x2109d221cf8>,\n",
       " <pyorient.otypes.OrientCluster at 0x2109d221d30>]"
      ]
     },
     "execution_count": 10,
     "metadata": {},
     "output_type": "execute_result"
    }
   ],
   "source": [
    "client.db_open(\"gods\",\"root\",ROOT_PASSWORD)"
   ]
  },
  {
   "cell_type": "markdown",
   "metadata": {},
   "source": [
    "**Q:** You should now be able to launch OrientDB queries through the Python client with the [command()](http://orientdb.com/docs/last/PyOrient-Client-Command.html) function. \n",
    "\n",
    "You should think of OrientDB as a Graph-Document database for the following questions. Each vertex and edge will contain information on it inside a JSON document.\n",
    "\n",
    "Create a new Vertex with content `{name: 'Zeus', symbol: 'thunder'}`. The [CREATE VERTEX : Create a vertex using JSON content](http://orientdb.com/docs/last/SQL-Create-Vertex.html) doc page should help you."
   ]
  },
  {
   "cell_type": "code",
   "execution_count": 11,
   "metadata": {},
   "outputs": [
    {
     "data": {
      "text/plain": [
       "[<pyorient.otypes.OrientRecord at 0x2109d1de278>]"
      ]
     },
     "execution_count": 11,
     "metadata": {},
     "output_type": "execute_result"
    }
   ],
   "source": [
    "client.command(\"create vertex set name = 'Zeus', symbol = 'thunder'\")"
   ]
  },
  {
   "cell_type": "markdown",
   "metadata": {},
   "source": [
    "You have created a VERTEX in the previous question. The VERTEX is a [class](https://orientdb.com/docs/last/Tutorial-Classes.html) of OrientDB which defines a record that can be linked to others through EDGE instances.\n",
    "\n",
    "You can find all VERTEX created in the database with a SQL command on the `V` table, like `SELECT * FROM V`. \n",
    "\n",
    "**Q:** Print all current vertices in `gods`, it should only have `Zeus` though for now."
   ]
  },
  {
   "cell_type": "code",
   "execution_count": 12,
   "metadata": {},
   "outputs": [
    {
     "data": {
      "text/plain": [
       "['Zeus']"
      ]
     },
     "execution_count": 12,
     "metadata": {},
     "output_type": "execute_result"
    }
   ],
   "source": [
    "[item.name for item in client.command(\"SELECT * FROM V\")]"
   ]
  },
  {
   "cell_type": "markdown",
   "metadata": {},
   "source": [
    "**Q:** Create new vertices with content : \n",
    "```\n",
    "{name:Héra, symbol:tiara}\n",
    "{name:Poséidon, symbol:trident}\n",
    "{name:Athena, symbol:helmet}\n",
    "{name:Arès, symbol:weapons} \n",
    "```"
   ]
  },
  {
   "cell_type": "code",
   "execution_count": 13,
   "metadata": {},
   "outputs": [
    {
     "data": {
      "text/plain": [
       "[<pyorient.otypes.OrientRecord at 0x21097e26cc0>]"
      ]
     },
     "execution_count": 13,
     "metadata": {},
     "output_type": "execute_result"
    }
   ],
   "source": [
    "client.command(\"create vertex set name = 'Hera', symbol = 'tiara'\")\n",
    "client.command(\"create vertex set name = 'Poséidon', symbol = 'trident'\")\n",
    "client.command(\"create vertex set name = 'Athena', symbol = 'helmet'\")\n",
    "client.command(\"create vertex set name = 'Arès', symbol = 'weapons'\")"
   ]
  },
  {
   "cell_type": "markdown",
   "metadata": {},
   "source": [
    "**Q:** Display all vertices with name = `Arès`"
   ]
  },
  {
   "cell_type": "code",
   "execution_count": 14,
   "metadata": {},
   "outputs": [
    {
     "data": {
      "text/plain": [
       "[<pyorient.otypes.OrientRecord at 0x2109d1decc0>]"
      ]
     },
     "execution_count": 14,
     "metadata": {},
     "output_type": "execute_result"
    }
   ],
   "source": [
    "[item for item in client.command(\"SELECT * FROM V where name='Arès'\")]"
   ]
  },
  {
   "cell_type": "markdown",
   "metadata": {},
   "source": [
    "**Q:** Create an EDGE from `Zeus` to `Poséidon` with the content `{kind: 'sibling'}"
   ]
  },
  {
   "cell_type": "code",
   "execution_count": 15,
   "metadata": {},
   "outputs": [
    {
     "data": {
      "text/plain": [
       "[<pyorient.otypes.OrientRecord at 0x2109d202518>]"
      ]
     },
     "execution_count": 15,
     "metadata": {},
     "output_type": "execute_result"
    }
   ],
   "source": [
    "client.command(\"create edge FROM (SELECT FROM V where name='Zeus') TO (SELECT FROM V where name='Poséidon') SET kind='sibling'\")"
   ]
  },
  {
   "cell_type": "markdown",
   "metadata": {},
   "source": [
    "**Q:** Redisplay all vertices, discuss."
   ]
  },
  {
   "cell_type": "code",
   "execution_count": 16,
   "metadata": {},
   "outputs": [
    {
     "data": {
      "text/plain": [
       "[<pyorient.otypes.OrientRecord at 0x2109d280978>,\n",
       " <pyorient.otypes.OrientRecord at 0x2109d280b38>,\n",
       " <pyorient.otypes.OrientRecord at 0x2109d280c88>,\n",
       " <pyorient.otypes.OrientRecord at 0x2109d280e10>,\n",
       " <pyorient.otypes.OrientRecord at 0x2109d280f60>]"
      ]
     },
     "execution_count": 16,
     "metadata": {},
     "output_type": "execute_result"
    }
   ],
   "source": [
    "[item for item in client.command(\"SELECT * FROM V\")]"
   ]
  },
  {
   "cell_type": "markdown",
   "metadata": {},
   "source": [
    "**Q:** Display all edges. They are contained in the class `E`"
   ]
  },
  {
   "cell_type": "code",
   "execution_count": 17,
   "metadata": {},
   "outputs": [
    {
     "data": {
      "text/plain": [
       "[<pyorient.otypes.OrientRecord at 0x2109d2804e0>]"
      ]
     },
     "execution_count": 17,
     "metadata": {},
     "output_type": "execute_result"
    }
   ],
   "source": [
    "[item for item in client.command('select * from e')]"
   ]
  },
  {
   "cell_type": "markdown",
   "metadata": {},
   "source": [
    "Two fields on vertices have appeared, containing the outgoing (out_) and incoming (in_) links.\n",
    "\n",
    "At the edge level, two fields point to the original (out) and destination (in) vertices.\n",
    "\n",
    "**Q:** Lets create some more edges :\n",
    "\n",
    "* Zeus > Héra (sibling)\n",
    "* Zeus > Arès (father)\n",
    "* Zeus > Athena (father)\n",
    "* Héra > Arès (mother)\n",
    "* Héra > Zeus (sibling)\n",
    "* Poséidon > Zeus (sibling)\n",
    "\n",
    "_Hint 1 :_ check [the CREATE EDGE doc page](http://orientdb.com/docs/last/SQL-Create-Edge.html) to find an example for creating edges on vertices using subqueries so you can run queries to fetch the vertices before creating an edge in between.\n",
    "\n",
    "_Hint 2 :_ after you have found the command to create edges between vertices with sub-queries, you should be well-versed enough in Python to create a list of all edges in the question, and loop the command on each element of the list to create all edges in one go =)"
   ]
  },
  {
   "cell_type": "code",
   "execution_count": 18,
   "metadata": {},
   "outputs": [],
   "source": [
    "def createEdge(_from,_to,_kind):\n",
    "    return_val = 0\n",
    "    try:\n",
    "        client.command(f\"create edge FROM (SELECT FROM V where name='{_from}') TO (SELECT FROM V where name='{_to}') SET kind='{_kind}'\")\n",
    "    except Exception as e:\n",
    "        return_val=-1\n",
    "    finally:\n",
    "        return return_val\n"
   ]
  },
  {
   "cell_type": "code",
   "execution_count": 19,
   "metadata": {},
   "outputs": [],
   "source": [
    "l_Edges = [\n",
    "            {\"from\":'Zeus',\"to\":'Hera',\"kind\":'sibling'},\n",
    "            {\"from\":'Zeus',\"to\":'Arès',\"kind\":'father'},\n",
    "            {\"from\":'Zeus',\"to\":'Athena',\"kind\":'father'},\n",
    "            {\"from\":'Hera',\"to\":'Arès',\"kind\":'mother'},\n",
    "            {\"from\":'Hera',\"to\":'Zeus',\"kind\":'sibling'},   \n",
    "            {\"from\":'Poséidon',\"to\":'Zeus',\"kind\":'sibling'}    \n",
    "        ]"
   ]
  },
  {
   "cell_type": "code",
   "execution_count": 20,
   "metadata": {},
   "outputs": [],
   "source": [
    "for dict in l_Edges:\n",
    "    createEdge(dict[\"from\"],dict[\"to\"],dict[\"kind\"])"
   ]
  },
  {
   "cell_type": "markdown",
   "metadata": {},
   "source": [
    "### Looking for data"
   ]
  },
  {
   "cell_type": "markdown",
   "metadata": {},
   "source": [
    "**Q:** Using [out()](http://orientdb.com/docs/last/Tutorial-Working-with-graphs.html#querying-graphs) function, display all vertices connected and outgoing from Zeus.\n",
    "\n",
    "You should use the EXPAND() special function to transform the vertex collection in the result-set by expanding it, making the results more readable."
   ]
  },
  {
   "cell_type": "code",
   "execution_count": 23,
   "metadata": {},
   "outputs": [
    {
     "data": {
      "text/plain": [
       "['Poséidon', 'Hera', 'Arès', 'Athena']"
      ]
     },
     "execution_count": 23,
     "metadata": {},
     "output_type": "execute_result"
    }
   ],
   "source": [
    "[item.out for item in client.command(\"SELECT out().name from V where name='Zeus'\")][0]"
   ]
  },
  {
   "cell_type": "markdown",
   "metadata": {},
   "source": [
    "**Q:** Display all vertices which got a father (the vertices which are the destination of an arc whose kind attribute is father).\n",
    "\n",
    "_Hint: You can notice that we use the field `in` the arc, and not the function `in()` which applies to vertices._"
   ]
  },
  {
   "cell_type": "code",
   "execution_count": 24,
   "metadata": {},
   "outputs": [
    {
     "data": {
      "text/plain": [
       "['Arès', 'Athena']"
      ]
     },
     "execution_count": 24,
     "metadata": {},
     "output_type": "execute_result"
    }
   ],
   "source": [
    "[item.name for item in client.command(\"SELECT EXPAND(in) FROM E WHERE kind='father'\")]"
   ]
  },
  {
   "cell_type": "markdown",
   "metadata": {},
   "source": [
    "**Q:** As in SQL, the operator `in` used in a clause `where` allows to restrict the possible values with an embedded query _(where ... in (select ...))_. \n",
    "\n",
    "Display the mothers, by displaying the vertices where an outgoing arc is part of the arcs where kind is a mother."
   ]
  },
  {
   "cell_type": "code",
   "execution_count": 25,
   "metadata": {},
   "outputs": [
    {
     "data": {
      "text/plain": [
       "'Hera'"
      ]
     },
     "execution_count": 25,
     "metadata": {},
     "output_type": "execute_result"
    }
   ],
   "source": [
    "[item.name for item in client.command(\"SELECT * from V where @rid in (SELECT out FROM E where kind='mother')\")][0]"
   ]
  },
  {
   "cell_type": "markdown",
   "metadata": {},
   "source": [
    "**Q:** Display the brothers and sisters of Zeus (the destination summits of an arc whose kind is sibling and whose original summit is Zeus)."
   ]
  },
  {
   "cell_type": "code",
   "execution_count": 27,
   "metadata": {},
   "outputs": [
    {
     "data": {
      "text/plain": [
       "['Hera', 'Poséidon']"
      ]
     },
     "execution_count": 27,
     "metadata": {},
     "output_type": "execute_result"
    }
   ],
   "source": [
    "[item.name for item in client.command(\"SELECT * from V where @rid in (SELECT out FROM E where kind='sibling') and @rid NOT IN (Select @rid from V where name = 'Zeus')\")]"
   ]
  },
  {
   "cell_type": "markdown",
   "metadata": {},
   "source": [
    "## Modeling a Product Recommendation System"
   ]
  },
  {
   "cell_type": "markdown",
   "metadata": {},
   "source": [
    "You are currently modeling the data of a product recommendation system with OrientDB.\n",
    "\n",
    "The main purpose of such a system is to answer the question \"which products were purchased by their people who purchased product X? »\n",
    "\n",
    "Purchased products have only one name field. They are purchased by people who have a nickname.\n",
    "\n",
    "When a person buys a product, the date of purchase is stored. \n",
    "\n",
    "Instead of working with \"anonymous\" vertices and arcs, you will use classes. The `create class` command allows you to create custom classes.\n",
    "\n",
    "The vertex classes must extend V, the arc classes must extend E."
   ]
  },
  {
   "cell_type": "markdown",
   "metadata": {},
   "source": [
    "**Q:** Create an `eCommerce` database, and the necessary classes to model the system.\n",
    "\n",
    "PS : you can view all classes in the database with :\n",
    "\n",
    "```python\n",
    "for name in client.command(\"SELECT name FROM (SELECT expand(classes) FROM metadata:schema)\"):\n",
    "    print(name)\n",
    "```"
   ]
  },
  {
   "cell_type": "code",
   "execution_count": 44,
   "metadata": {},
   "outputs": [],
   "source": [
    "db = client.db_create(\"eCommerce\",type=pyorient.DB_TYPE_GRAPH,storage=pyorient.STORAGE_TYPE_MEMORY)"
   ]
  },
  {
   "cell_type": "markdown",
   "metadata": {},
   "source": [
    "**Q:** Create the following products: `spaghetti`, `bolognese sauce`, `cheese`, `apple`."
   ]
  },
  {
   "cell_type": "code",
   "execution_count": 45,
   "metadata": {},
   "outputs": [
    {
     "data": {
      "text/plain": [
       "[11]"
      ]
     },
     "execution_count": 45,
     "metadata": {},
     "output_type": "execute_result"
    }
   ],
   "source": [
    "client.command(\"CREATE CLASS Products extends V\")"
   ]
  },
  {
   "cell_type": "code",
   "execution_count": 46,
   "metadata": {},
   "outputs": [
    {
     "data": {
      "text/plain": [
       "[1]"
      ]
     },
     "execution_count": 46,
     "metadata": {},
     "output_type": "execute_result"
    }
   ],
   "source": [
    "client.command(\"create property Products.label String\")"
   ]
  },
  {
   "cell_type": "code",
   "execution_count": 47,
   "metadata": {},
   "outputs": [
    {
     "data": {
      "text/plain": [
       "[<pyorient.otypes.OrientRecord at 0x2109d289358>]"
      ]
     },
     "execution_count": 47,
     "metadata": {},
     "output_type": "execute_result"
    }
   ],
   "source": [
    "client.command(\"insert into Products (label) values ('spaghetti')\")"
   ]
  },
  {
   "cell_type": "code",
   "execution_count": 48,
   "metadata": {},
   "outputs": [
    {
     "data": {
      "text/plain": [
       "[<pyorient.otypes.OrientRecord at 0x2109d28c390>]"
      ]
     },
     "execution_count": 48,
     "metadata": {},
     "output_type": "execute_result"
    }
   ],
   "source": [
    "client.command(\"insert into Products (label) values ('bolognese sauce')\")"
   ]
  },
  {
   "cell_type": "code",
   "execution_count": 49,
   "metadata": {},
   "outputs": [
    {
     "data": {
      "text/plain": [
       "[<pyorient.otypes.OrientRecord at 0x2109d289be0>]"
      ]
     },
     "execution_count": 49,
     "metadata": {},
     "output_type": "execute_result"
    }
   ],
   "source": [
    "client.command(\"insert into Products (label) values ('cheese')\")"
   ]
  },
  {
   "cell_type": "code",
   "execution_count": 50,
   "metadata": {},
   "outputs": [
    {
     "data": {
      "text/plain": [
       "[<pyorient.otypes.OrientRecord at 0x2109d289f28>]"
      ]
     },
     "execution_count": 50,
     "metadata": {},
     "output_type": "execute_result"
    }
   ],
   "source": [
    "client.command(\"insert into Products (label) values ('apple')\")"
   ]
  },
  {
   "cell_type": "markdown",
   "metadata": {},
   "source": [
    "**Q:** Create the following people: `peter`, `meredith`."
   ]
  },
  {
   "cell_type": "code",
   "execution_count": 51,
   "metadata": {},
   "outputs": [
    {
     "data": {
      "text/plain": [
       "[12]"
      ]
     },
     "execution_count": 51,
     "metadata": {},
     "output_type": "execute_result"
    }
   ],
   "source": [
    "client.command(\"CREATE CLASS Customer extends V\")"
   ]
  },
  {
   "cell_type": "code",
   "execution_count": 52,
   "metadata": {},
   "outputs": [
    {
     "data": {
      "text/plain": [
       "[2]"
      ]
     },
     "execution_count": 52,
     "metadata": {},
     "output_type": "execute_result"
    }
   ],
   "source": [
    "client.command(\"create property Products.nickname String\")"
   ]
  },
  {
   "cell_type": "code",
   "execution_count": 53,
   "metadata": {},
   "outputs": [
    {
     "data": {
      "text/plain": [
       "[<pyorient.otypes.OrientRecord at 0x2109d28c828>]"
      ]
     },
     "execution_count": 53,
     "metadata": {},
     "output_type": "execute_result"
    }
   ],
   "source": [
    "client.command(\"insert into Customer (nickname) values ('peter')\")"
   ]
  },
  {
   "cell_type": "code",
   "execution_count": 54,
   "metadata": {},
   "outputs": [
    {
     "data": {
      "text/plain": [
       "[<pyorient.otypes.OrientRecord at 0x2109d28c198>]"
      ]
     },
     "execution_count": 54,
     "metadata": {},
     "output_type": "execute_result"
    }
   ],
   "source": [
    "client.command(\"insert into Customer (nickname) values ('meredith')\")"
   ]
  },
  {
   "cell_type": "markdown",
   "metadata": {},
   "source": [
    "**Q:** Create the following purchases: \n",
    "- peter > spaghetti + cheese on 20/01/2016 \n",
    "- meredith > cheese + apple + bolognese sauce on 22/01/2016\n",
    "- peter > spaghetti + bolognese sauce on 27/01/2016\n"
   ]
  },
  {
   "cell_type": "code",
   "execution_count": 55,
   "metadata": {},
   "outputs": [],
   "source": [
    "data = [\n",
    "    (\"peter\",[\"spaghetti\",\"cheese\"],'20/01/2016'),\n",
    "    (\"meredith\",[\"cheese\",\"apple\",\"bolognese sauce\"],'22/01/2016'),\n",
    "    (\"peter\",[\"spaghetti\",\"bolognese sauce\"],'27/01/2016')   \n",
    "]"
   ]
  },
  {
   "cell_type": "code",
   "execution_count": 56,
   "metadata": {},
   "outputs": [],
   "source": [
    "i=1\n",
    "for tuple in data:\n",
    "    for product in tuple[1]:\n",
    "        query = f\"CREATE EDGE edge{i} FROM (SELECT FROM Customer where nickname='{tuple[0]}') TO (SELECT FROM Products where label='{product}') set date='{tuple[2]}'\"\n",
    "        client.command(query)\n",
    "        i+=1\n"
   ]
  },
  {
   "cell_type": "markdown",
   "metadata": {},
   "source": [
    "**Q:** Who bought Bolognese sauce?"
   ]
  },
  {
   "cell_type": "code",
   "execution_count": 57,
   "metadata": {},
   "outputs": [
    {
     "data": {
      "text/plain": [
       "['meredith', 'peter']"
      ]
     },
     "execution_count": 57,
     "metadata": {},
     "output_type": "execute_result"
    }
   ],
   "source": [
    "[item.nickname for item in client.command(\"SELECT expand(in()) FROM Products where label='bolognese sauce'\")]"
   ]
  },
  {
   "cell_type": "markdown",
   "metadata": {},
   "source": []
  },
  {
   "cell_type": "markdown",
   "metadata": {},
   "source": [
    "**Q:** It is possible to link the `out` and `in` navigation functions. What products are purchased with Bolognese sauce? "
   ]
  },
  {
   "cell_type": "code",
   "execution_count": 90,
   "metadata": {},
   "outputs": [
    {
     "data": {
      "text/plain": [
       "{'apple', 'bolognese sauce', 'cheese', 'spaghetti'}"
      ]
     },
     "execution_count": 90,
     "metadata": {},
     "output_type": "execute_result"
    }
   ],
   "source": [
    "set([item.label for item in client.command(\"SELECT expand(in().out()) FROM Products where label='bolognese sauce'\")])"
   ]
  },
  {
   "cell_type": "markdown",
   "metadata": {},
   "source": [
    "## Postquisites"
   ]
  },
  {
   "cell_type": "markdown",
   "metadata": {},
   "source": [
    "Since we create databases in memory, they get destroyed on server shutdown."
   ]
  }
 ],
 "metadata": {
  "kernelspec": {
   "display_name": "Python 3",
   "language": "python",
   "name": "python3"
  },
  "language_info": {
   "codemirror_mode": {
    "name": "ipython",
    "version": 3
   },
   "file_extension": ".py",
   "mimetype": "text/x-python",
   "name": "python",
   "nbconvert_exporter": "python",
   "pygments_lexer": "ipython3",
   "version": "3.7.1"
  }
 },
 "nbformat": 4,
 "nbformat_minor": 2
}
